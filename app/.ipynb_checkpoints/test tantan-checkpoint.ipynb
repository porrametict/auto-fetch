{
 "cells": [
  {
   "cell_type": "code",
   "execution_count": 1,
   "id": "three-distributor",
   "metadata": {},
   "outputs": [],
   "source": [
    "import sys\n",
    "import  requests\n",
    "import pandas as pd \n",
    "from io import StringIO \n",
    "from requests.models import  Response\n",
    "from pandas import json_normalize\n",
    "from typing import  NoReturn,Tuple,Optional,Union\n"
   ]
  },
  {
   "cell_type": "code",
   "execution_count": 7,
   "id": "referenced-pickup",
   "metadata": {},
   "outputs": [],
   "source": [
    "def get_request(api):\n",
    "    r = requests.get(api)\n",
    "    response_status = r.status_code\n",
    "    if (r.ok) :\n",
    "        return r "
   ]
  },
  {
   "cell_type": "code",
   "execution_count": 160,
   "id": "therapeutic-andrews",
   "metadata": {},
   "outputs": [],
   "source": [
    "api =  \"https://api.mocki.io/v1/fa10712b\"\n",
    "complex_json = \"https://data.go.th/dataset/751498ae-18ee-4146-a111-f1d58340dbf0/resource/9c971d30-413c-4a65-a5e6-307b90db6be7/download/daycare.json\"\n",
    "json_placehoder = \"https://jsonplaceholder.typicode.com/users\"\n",
    "u_json =\"https://data.go.th/dataset/84954e4a-3302-4b05-9dfc-c636f30b62ab/resource/31ddd8a7-c99a-43eb-8c2e-9644ddb1608b/download/university.json\"\n",
    "r = get_request(u_json)\n",
    "# print(r.json())"
   ]
  },
  {
   "cell_type": "code",
   "execution_count": 161,
   "id": "separated-internet",
   "metadata": {},
   "outputs": [
    {
     "data": {
      "text/html": [
       "<div>\n",
       "<style scoped>\n",
       "    .dataframe tbody tr th:only-of-type {\n",
       "        vertical-align: middle;\n",
       "    }\n",
       "\n",
       "    .dataframe tbody tr th {\n",
       "        vertical-align: top;\n",
       "    }\n",
       "\n",
       "    .dataframe thead th {\n",
       "        text-align: right;\n",
       "    }\n",
       "</style>\n",
       "<table border=\"1\" class=\"dataframe\">\n",
       "  <thead>\n",
       "    <tr style=\"text-align: right;\">\n",
       "      <th></th>\n",
       "      <th>type</th>\n",
       "      <th>totalFeatures</th>\n",
       "      <th>features</th>\n",
       "      <th>crs.type</th>\n",
       "      <th>crs.properties.name</th>\n",
       "    </tr>\n",
       "  </thead>\n",
       "  <tbody>\n",
       "    <tr>\n",
       "      <th>0</th>\n",
       "      <td>FeatureCollection</td>\n",
       "      <td>61</td>\n",
       "      <td>[{'type': 'Feature', 'id': 'university.1', 'ge...</td>\n",
       "      <td>name</td>\n",
       "      <td>urn:ogc:def:crs:EPSG::32647</td>\n",
       "    </tr>\n",
       "  </tbody>\n",
       "</table>\n",
       "</div>"
      ],
      "text/plain": [
       "                type  totalFeatures  \\\n",
       "0  FeatureCollection             61   \n",
       "\n",
       "                                            features crs.type  \\\n",
       "0  [{'type': 'Feature', 'id': 'university.1', 'ge...     name   \n",
       "\n",
       "           crs.properties.name  \n",
       "0  urn:ogc:def:crs:EPSG::32647  "
      ]
     },
     "execution_count": 161,
     "metadata": {},
     "output_type": "execute_result"
    }
   ],
   "source": [
    "columns  =  []\n",
    "df =  json_normalize(r.json())\n",
    "df"
   ]
  },
  {
   "cell_type": "code",
   "execution_count": 207,
   "id": "frequent-verification",
   "metadata": {},
   "outputs": [
    {
     "data": {
      "text/plain": [
       "[{'name': 'type', 'example_data': 'FeatureCollection', 'type': str},\n",
       " {'name': 'totalFeatures', 'example_data': 61, 'type': numpy.int64},\n",
       " {'name': 'features.type', 'example_data': 'Feature', 'type': str},\n",
       " {'name': 'features.id', 'example_data': 'university.1', 'type': str},\n",
       " {'name': 'features.geometry_name', 'example_data': 'the_geom', 'type': str},\n",
       " {'name': 'features.geometry.type', 'example_data': 'Point', 'type': str},\n",
       " {'name': 'features.geometry.coordinates',\n",
       "  'example_data': [664971.2674644969, 1520376.8157974307],\n",
       "  'type': list},\n",
       " {'name': 'features.properties.name',\n",
       "  'example_data': 'สถาบันเทคโนโลยีปทุมวัน',\n",
       "  'type': str},\n",
       " {'name': 'features.properties.dcode', 'example_data': '1007', 'type': str},\n",
       " {'name': 'features.properties.type', 'example_data': '1', 'type': str},\n",
       " {'name': 'features.properties.address',\n",
       "  'example_data': '833 ถ.พระราม 1  เขตปทุมวัน กรุงเทพฯ 10330',\n",
       "  'type': str},\n",
       " {'name': 'features.properties.tel',\n",
       "  'example_data': '0 2219 3833-38',\n",
       "  'type': str},\n",
       " {'name': 'features.properties.fax',\n",
       "  'example_data': '0 2219 3872',\n",
       "  'type': str},\n",
       " {'name': 'features.properties.web',\n",
       "  'example_data': 'www.ptwit.ac.th',\n",
       "  'type': str},\n",
       " {'name': 'crs.type', 'example_data': 'name', 'type': str},\n",
       " {'name': 'crs.properties.name',\n",
       "  'example_data': 'urn:ogc:def:crs:EPSG::32647',\n",
       "  'type': str}]"
      ]
     },
     "execution_count": 207,
     "metadata": {},
     "output_type": "execute_result"
    }
   ],
   "source": [
    "def get_columns(df):\n",
    "    columns=list()\n",
    "    for column_name in df.columns :\n",
    "        d_type =  df[column_name].dtype\n",
    "        first_row = df[column_name][0] # first-row\n",
    "        if d_type == list :\n",
    "            if (type(first_row)  == list) : \n",
    "                if (len(first_row) and  (type(first_row[0]) in [list, object,dict])) :\n",
    "                    prefix = column_name+\".\"\n",
    "                    new_df = json_normalize(first_row)\n",
    "                    somethings = [ {**s, \"field\" : prefix+s[\"field\"]} for s in get_columns(new_df)]\n",
    "                    columns +=   (somethings)\n",
    "                    \n",
    "                    continue\n",
    "        column_data = {\n",
    "            \"field\" : column_name,\n",
    "            \"type\" : type(first_row),\n",
    "            \"primary_key\" : False ,\n",
    "            \"example_data\" :  first_row,\n",
    "            \"description\" : \"\"\n",
    "        }\n",
    "        columns.append(column_data)\n",
    "    return columns\n",
    "            \n",
    "columns = get_columns(df)\n",
    "\n",
    "columns\n",
    "            \n",
    "            "
   ]
  },
  {
   "cell_type": "code",
   "execution_count": null,
   "id": "reported-image",
   "metadata": {},
   "outputs": [],
   "source": []
  },
  {
   "cell_type": "code",
   "execution_count": null,
   "id": "reasonable-resolution",
   "metadata": {},
   "outputs": [],
   "source": []
  },
  {
   "cell_type": "code",
   "execution_count": null,
   "id": "sexual-afghanistan",
   "metadata": {},
   "outputs": [],
   "source": [
    "\n"
   ]
  },
  {
   "cell_type": "code",
   "execution_count": null,
   "id": "brown-electronics",
   "metadata": {},
   "outputs": [],
   "source": []
  },
  {
   "cell_type": "code",
   "execution_count": null,
   "id": "fleet-portable",
   "metadata": {},
   "outputs": [],
   "source": []
  }
 ],
 "metadata": {
  "kernelspec": {
   "display_name": "Python 3",
   "language": "python",
   "name": "python3"
  },
  "language_info": {
   "codemirror_mode": {
    "name": "ipython",
    "version": 3
   },
   "file_extension": ".py",
   "mimetype": "text/x-python",
   "name": "python",
   "nbconvert_exporter": "python",
   "pygments_lexer": "ipython3",
   "version": "3.8.5"
  }
 },
 "nbformat": 4,
 "nbformat_minor": 5
}
