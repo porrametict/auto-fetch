{
 "cells": [
  {
   "cell_type": "code",
   "execution_count": 1,
   "id": "rising-petite",
   "metadata": {},
   "outputs": [],
   "source": [
    "import sys\n",
    "import  requests\n",
    "import pandas as pd \n",
    "from io import StringIO \n",
    "from requests.models import  Response\n",
    "from pandas import json_normalize\n",
    "from typing import  NoReturn,Tuple,Optional,Union\n"
   ]
  },
  {
   "cell_type": "code",
   "execution_count": 7,
   "id": "wicked-egypt",
   "metadata": {},
   "outputs": [],
   "source": [
    "def get_request(api):\n",
    "    r = requests.get(api)\n",
    "    response_status = r.status_code\n",
    "    if (r.ok) :\n",
    "        return r "
   ]
  },
  {
   "cell_type": "code",
   "execution_count": 210,
   "id": "floppy-bloom",
   "metadata": {},
   "outputs": [],
   "source": [
    "api =  \"https://api.mocki.io/v1/fa10712b\"\n",
    "complex_json = \"https://data.go.th/dataset/751498ae-18ee-4146-a111-f1d58340dbf0/resource/9c971d30-413c-4a65-a5e6-307b90db6be7/download/daycare.json\"\n",
    "json_placehoder = \"https://jsonplaceholder.typicode.com/users\"\n",
    "u_json =\"https://data.go.th/dataset/84954e4a-3302-4b05-9dfc-c636f30b62ab/resource/31ddd8a7-c99a-43eb-8c2e-9644ddb1608b/download/university.json\"\n",
    "tanrabad = \"https://api.tanrabad.org/wapi-v1/patient/tambon?start_week=01&start_year=2020&end_week=53&end_year=2020&disease_class=1&fbclid=IwAR2kOSLfRDWhAvkoY3KBXQB2Y7IjJa1XD0Oab3UA2ZyuAnZd-A8k2fVsDPc\"\n",
    "api = tanrabad\n",
    "r = get_request(api)\n",
    "# print(r.json())"
   ]
  },
  {
   "cell_type": "code",
   "execution_count": 211,
   "id": "aging-bankruptcy",
   "metadata": {},
   "outputs": [
    {
     "data": {
      "text/html": [
       "<div>\n",
       "<style scoped>\n",
       "    .dataframe tbody tr th:only-of-type {\n",
       "        vertical-align: middle;\n",
       "    }\n",
       "\n",
       "    .dataframe tbody tr th {\n",
       "        vertical-align: top;\n",
       "    }\n",
       "\n",
       "    .dataframe thead th {\n",
       "        text-align: right;\n",
       "    }\n",
       "</style>\n",
       "<table border=\"1\" class=\"dataframe\">\n",
       "  <thead>\n",
       "    <tr style=\"text-align: right;\">\n",
       "      <th></th>\n",
       "      <th>area_code</th>\n",
       "      <th>center</th>\n",
       "      <th>sum</th>\n",
       "    </tr>\n",
       "  </thead>\n",
       "  <tbody>\n",
       "    <tr>\n",
       "      <th>0</th>\n",
       "      <td>100101</td>\n",
       "      <td>POINT(100.492181256902 13.7512273777728)</td>\n",
       "      <td>2</td>\n",
       "    </tr>\n",
       "    <tr>\n",
       "      <th>1</th>\n",
       "      <td>100102</td>\n",
       "      <td>POINT(100.499045902295 13.7439780295119)</td>\n",
       "      <td>5</td>\n",
       "    </tr>\n",
       "    <tr>\n",
       "      <th>2</th>\n",
       "      <td>100103</td>\n",
       "      <td>POINT(100.499125113254 13.7499409261305)</td>\n",
       "      <td>2</td>\n",
       "    </tr>\n",
       "    <tr>\n",
       "      <th>3</th>\n",
       "      <td>100104</td>\n",
       "      <td>POINT(100.503367008007 13.7511109286322)</td>\n",
       "      <td>1</td>\n",
       "    </tr>\n",
       "    <tr>\n",
       "      <th>4</th>\n",
       "      <td>100105</td>\n",
       "      <td>POINT(100.497057595133 13.7539668666124)</td>\n",
       "      <td>None</td>\n",
       "    </tr>\n",
       "    <tr>\n",
       "      <th>...</th>\n",
       "      <td>...</td>\n",
       "      <td>...</td>\n",
       "      <td>...</td>\n",
       "    </tr>\n",
       "    <tr>\n",
       "      <th>7420</th>\n",
       "      <td>961203</td>\n",
       "      <td>POINT(101.758205244364 6.11326410254142)</td>\n",
       "      <td>3</td>\n",
       "    </tr>\n",
       "    <tr>\n",
       "      <th>7421</th>\n",
       "      <td>961204</td>\n",
       "      <td>POINT(101.576187770107 6.00448112596986)</td>\n",
       "      <td>8</td>\n",
       "    </tr>\n",
       "    <tr>\n",
       "      <th>7422</th>\n",
       "      <td>961301</td>\n",
       "      <td>POINT(101.818003560442 6.25720565054593)</td>\n",
       "      <td>15</td>\n",
       "    </tr>\n",
       "    <tr>\n",
       "      <th>7423</th>\n",
       "      <td>961302</td>\n",
       "      <td>POINT(101.827917959554 6.18315090479214)</td>\n",
       "      <td>11</td>\n",
       "    </tr>\n",
       "    <tr>\n",
       "      <th>7424</th>\n",
       "      <td>961303</td>\n",
       "      <td>POINT(101.877590853298 6.25329140647002)</td>\n",
       "      <td>3</td>\n",
       "    </tr>\n",
       "  </tbody>\n",
       "</table>\n",
       "<p>7425 rows × 3 columns</p>\n",
       "</div>"
      ],
      "text/plain": [
       "     area_code                                    center   sum\n",
       "0       100101  POINT(100.492181256902 13.7512273777728)     2\n",
       "1       100102  POINT(100.499045902295 13.7439780295119)     5\n",
       "2       100103  POINT(100.499125113254 13.7499409261305)     2\n",
       "3       100104  POINT(100.503367008007 13.7511109286322)     1\n",
       "4       100105  POINT(100.497057595133 13.7539668666124)  None\n",
       "...        ...                                       ...   ...\n",
       "7420    961203  POINT(101.758205244364 6.11326410254142)     3\n",
       "7421    961204  POINT(101.576187770107 6.00448112596986)     8\n",
       "7422    961301  POINT(101.818003560442 6.25720565054593)    15\n",
       "7423    961302  POINT(101.827917959554 6.18315090479214)    11\n",
       "7424    961303  POINT(101.877590853298 6.25329140647002)     3\n",
       "\n",
       "[7425 rows x 3 columns]"
      ]
     },
     "execution_count": 211,
     "metadata": {},
     "output_type": "execute_result"
    }
   ],
   "source": [
    "columns  =  []\n",
    "df =  json_normalize(r.json())\n",
    "df"
   ]
  },
  {
   "cell_type": "code",
   "execution_count": 212,
   "id": "connected-regulation",
   "metadata": {},
   "outputs": [
    {
     "data": {
      "text/plain": [
       "[{'field': 'area_code',\n",
       "  'type': str,\n",
       "  'primary_key': False,\n",
       "  'example_data': '100101',\n",
       "  'description': ''},\n",
       " {'field': 'center',\n",
       "  'type': str,\n",
       "  'primary_key': False,\n",
       "  'example_data': 'POINT(100.492181256902 13.7512273777728)',\n",
       "  'description': ''},\n",
       " {'field': 'sum',\n",
       "  'type': str,\n",
       "  'primary_key': False,\n",
       "  'example_data': '2',\n",
       "  'description': ''}]"
      ]
     },
     "execution_count": 212,
     "metadata": {},
     "output_type": "execute_result"
    }
   ],
   "source": [
    "def get_columns(df):\n",
    "    columns=list()\n",
    "    for column_name in df.columns :\n",
    "        d_type =  df[column_name].dtype\n",
    "        first_row = df[column_name][0] # first-row\n",
    "        if d_type == list :\n",
    "            if (type(first_row)  == list) : \n",
    "                if (len(first_row) and  (type(first_row[0]) in [list, object,dict])) :\n",
    "                    prefix = column_name+\".\"\n",
    "                    new_df = json_normalize(first_row)\n",
    "                    somethings = [ {**s, \"field\" : prefix+s[\"field\"]} for s in get_columns(new_df)]\n",
    "                    columns +=   (somethings)\n",
    "                    \n",
    "                    continue\n",
    "        column_data = {\n",
    "            \"field\" : column_name,\n",
    "            \"type\" : type(first_row),\n",
    "            \"primary_key\" : False ,\n",
    "            \"example_data\" :  first_row,\n",
    "            \"description\" : \"\"\n",
    "        }\n",
    "        columns.append(column_data)\n",
    "    return columns\n",
    "            \n",
    "columns = get_columns(df)\n",
    "\n",
    "columns\n",
    "            \n",
    "            "
   ]
  },
  {
   "cell_type": "code",
   "execution_count": null,
   "id": "square-hebrew",
   "metadata": {},
   "outputs": [],
   "source": []
  },
  {
   "cell_type": "code",
   "execution_count": null,
   "id": "recreational-northern",
   "metadata": {},
   "outputs": [],
   "source": []
  },
  {
   "cell_type": "code",
   "execution_count": null,
   "id": "elementary-verse",
   "metadata": {},
   "outputs": [],
   "source": [
    "\n"
   ]
  },
  {
   "cell_type": "code",
   "execution_count": null,
   "id": "other-january",
   "metadata": {},
   "outputs": [],
   "source": []
  },
  {
   "cell_type": "code",
   "execution_count": null,
   "id": "accompanied-hungarian",
   "metadata": {},
   "outputs": [],
   "source": []
  }
 ],
 "metadata": {
  "kernelspec": {
   "display_name": "Python 3",
   "language": "python",
   "name": "python3"
  },
  "language_info": {
   "codemirror_mode": {
    "name": "ipython",
    "version": 3
   },
   "file_extension": ".py",
   "mimetype": "text/x-python",
   "name": "python",
   "nbconvert_exporter": "python",
   "pygments_lexer": "ipython3",
   "version": "3.8.5"
  }
 },
 "nbformat": 4,
 "nbformat_minor": 5
}
